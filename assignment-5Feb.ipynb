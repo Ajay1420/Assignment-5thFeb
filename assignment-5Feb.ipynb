{
 "cells": [
  {
   "cell_type": "markdown",
   "id": "a7adff94-6fd8-43f4-8911-9ac06f274128",
   "metadata": {},
   "source": [
    "Q1. Explain Class and Object with respect to Object-Oriented Programming. Give a suitable example."
   ]
  },
  {
   "cell_type": "markdown",
   "id": "0c1d8e06-bbd2-4097-b593-cefcb438eede",
   "metadata": {},
   "source": [
    "Ans1-"
   ]
  },
  {
   "cell_type": "markdown",
   "id": "2c5b0e93-9984-44c5-ac23-5498c8b1eaee",
   "metadata": {},
   "source": [
    "A class is a blueprint or a template that defines the attributes and behaviors of objects that belong to that class. A class is a blueprint or a template that defines the attributes and behaviors of objects that belong to that class. Classes are used to create new user-defined data types.\n",
    "\n",
    "An object is an instance of a class. An object is a real-world entity that has state (attributes) and behavior (methods). Objects can be created from a class. Objects are instances of a class that has state and behavior.\n",
    "\n",
    "Example:"
   ]
  },
  {
   "cell_type": "code",
   "execution_count": 1,
   "id": "5337f7c6-20b2-4ad1-9a66-6de2a1ff06c0",
   "metadata": {},
   "outputs": [
    {
     "name": "stdout",
     "output_type": "stream",
     "text": [
      "Toyota\n",
      "Camry\n",
      "The Toyota Camry's engine is starting.\n",
      "The Toyota Camry is accelerating.\n",
      "The Toyota Camry is braking.\n",
      "The Toyota Camry is turning left.\n"
     ]
    }
   ],
   "source": [
    "class Car:\n",
    "    def __init__(self, make, model, color, year, wheels):\n",
    "        self.make = make\n",
    "        self.model = model\n",
    "        self.color = color\n",
    "        self.year = year\n",
    "        self.wheels = wheels\n",
    "\n",
    "    def start_engine(self):\n",
    "        print(f\"The {self.make} {self.model}'s engine is starting.\")\n",
    "\n",
    "    def accelerate(self):\n",
    "        print(f\"The {self.make} {self.model} is accelerating.\")\n",
    "\n",
    "    def brake(self):\n",
    "        print(f\"The {self.make} {self.model} is braking.\")\n",
    "\n",
    "    def turn(self, direction):\n",
    "        print(f\"The {self.make} {self.model} is turning {direction}.\")\n",
    "\n",
    "my_car = Car(\"Toyota\", \"Camry\", \"Red\", 2020, 4)\n",
    "print(my_car.make) # Output: Toyota\n",
    "print(my_car.model) # Output: Camry\n",
    "my_car.start_engine() # Output: The Toyota Camry's engine is starting.\n",
    "my_car.accelerate() # Output: The Toyota Camry is accelerating.\n",
    "my_car.brake() # Output: The Toyota Camry is braking.\n",
    "my_car.turn(\"left\") # Output: The Toyota Camry is turning left.\n"
   ]
  },
  {
   "cell_type": "markdown",
   "id": "53886e07-20af-41ca-bb06-e27315786103",
   "metadata": {},
   "source": [
    "Q2. Name the four pillars of OOPs."
   ]
  },
  {
   "cell_type": "markdown",
   "id": "e7535f1f-1973-48e4-81e2-47d941643174",
   "metadata": {},
   "source": [
    "Ans2- The four pillars of Object-Oriented Programming (OOP) are:\n",
    "\n",
    "    (1)  Abstraction: Hiding the implementation details of a class and exposing only the necessary information to the user.\n",
    "\n",
    "    (2)  Encapsulation: Wrapping the data and functions that operate on the data within a single unit or object.\n",
    "\n",
    "    (3)  Inheritance: Reusing the properties and behavior of a base class in one or more derived classes.\n",
    "\n",
    "    (4)  Polymorphism: Allowing objects of different classes to be treated as objects of a common class, by providing a common interface.\n",
    "\n",
    "\n",
    "\n"
   ]
  },
  {
   "cell_type": "markdown",
   "id": "b4213050-c407-4536-a68d-efeae96a653f",
   "metadata": {},
   "source": [
    "Q3. Explain why the __init__() function is used. Give a suitable example."
   ]
  },
  {
   "cell_type": "markdown",
   "id": "6d879439-08b6-4c36-9842-b9f75b0393a9",
   "metadata": {},
   "source": [
    "Ans3-\n",
    "\n",
    "The __init__() function is used in Python to initialize an object's state. It is called when an object is created from a class and it allows the class to initialize the attributes of the object. It acts as a constructor for the class and is the first method that is called when an object is created.\n",
    "\n",
    "Example:"
   ]
  },
  {
   "cell_type": "code",
   "execution_count": 3,
   "id": "2b909db8-3b82-43f5-83d8-f8d8286f7b0f",
   "metadata": {},
   "outputs": [
    {
     "name": "stdout",
     "output_type": "stream",
     "text": [
      "John\n",
      "30\n"
     ]
    }
   ],
   "source": [
    "class Person:\n",
    "    def __init__(self, name, age):\n",
    "        self.name = name\n",
    "        self.age = age\n",
    "        \n",
    "person = Person(\"John\", 30)\n",
    "print(person.name) # Output: John\n",
    "print(person.age) # Output: 30\n"
   ]
  },
  {
   "cell_type": "markdown",
   "id": "cbc73710-bdb4-4a9a-889b-2380b67313d5",
   "metadata": {},
   "source": [
    "Q4. Why self is used in OOPs?"
   ]
  },
  {
   "cell_type": "markdown",
   "id": "ab992075-deaa-4c90-bcab-9e362b2763ae",
   "metadata": {},
   "source": [
    "Ans4-\n",
    "\n",
    "The \"self\" keyword in Python is used in Object-Oriented Programming (OOP) to refer to the instance of the object itself. It is a way to access the attributes and methods of the object within the class. The \"self\" keyword is used as the first argument in all of the class's methods and it is used to refer to the instance of the object. In other words, it helps to bind the attributes and methods to the instance of the object, making it unique for each instance. The use of self is essential for creating and manipulating objects in OOP."
   ]
  },
  {
   "cell_type": "markdown",
   "id": "f8a05e8f-589a-43f1-b2d0-0e5138689b37",
   "metadata": {},
   "source": [
    "Q5. What is inheritance? Give an example for each type of inheritance."
   ]
  },
  {
   "cell_type": "markdown",
   "id": "5bd24fbf-0cea-48e6-ac46-15e0d63e8542",
   "metadata": {},
   "source": [
    "Ans5-"
   ]
  },
  {
   "cell_type": "markdown",
   "id": "2313bcaa-3399-46bb-9d48-a3d36ba80805",
   "metadata": {},
   "source": [
    "Inheritance is a mechanism in object-oriented programming (OOP) where a subclass can inherit the attributes and behaviors of its parent class, also known as the base class or superclass. This allows the subclass to inherit the properties and methods of the parent class, making it possible to reuse and extend the code without having to write it again.\n",
    "\n"
   ]
  },
  {
   "cell_type": "markdown",
   "id": "e08cac77-c3cc-47be-affa-8d3f5deb1bfc",
   "metadata": {},
   "source": [
    "Types of inheritance: There are five types of inheritance in python programming:\n",
    "\n",
    "1). Single inheritance\n",
    "2). Multiple inheritances\n",
    "3). Multilevel inheritance\n",
    "4). Hierarchical inheritance\n",
    "5). Hybrid inheritance"
   ]
  },
  {
   "cell_type": "markdown",
   "id": "757c8f16-761a-4c7d-8b46-8036d0115b49",
   "metadata": {},
   "source": [
    "Single inheritance: When child class is derived from only one parent class. This is called single inheritance. "
   ]
  },
  {
   "cell_type": "code",
   "execution_count": 7,
   "id": "2a6f5680-3215-4e26-8273-8e7407975a2e",
   "metadata": {},
   "outputs": [
    {
     "name": "stdout",
     "output_type": "stream",
     "text": [
      "Name: John Doe\n",
      "Age: 22\n",
      "Roll No: 12345\n"
     ]
    }
   ],
   "source": [
    "class Person:\n",
    "    def __init__(self, name, age):\n",
    "        self.name = name\n",
    "        self.age = age\n",
    "        \n",
    "    def display(self):\n",
    "        print(\"Name:\", self.name)\n",
    "        print(\"Age:\", self.age)\n",
    "\n",
    "class Student(Person):\n",
    "    def __init__(self, name, age, roll_no):\n",
    "        Person.__init__(self, name, age)\n",
    "        self.roll_no = roll_no\n",
    "        \n",
    "    def display(self):\n",
    "        Person.display(self)\n",
    "        print(\"Roll No:\", self.roll_no)\n",
    "\n",
    "s = Student(\"John Doe\", 22, \"12345\")\n",
    "s.display()\n",
    "\n"
   ]
  },
  {
   "cell_type": "markdown",
   "id": "86697374-dadc-453b-9356-54e32871e44c",
   "metadata": {},
   "source": [
    "Multiple Inheritance: When child class is derived or inherited from more than one parent class. This is called multiple inheritance. In multiple inheritance, we have two parent classes/base classes and one child class that inherits both parent classes properties."
   ]
  },
  {
   "cell_type": "code",
   "execution_count": 8,
   "id": "2451762f-907b-430d-ab24-0a6082005e67",
   "metadata": {},
   "outputs": [
    {
     "name": "stdout",
     "output_type": "stream",
     "text": [
      "Method 1 of Base1 with value1: 10\n",
      "Method 2 of Base2 with value2: 20\n"
     ]
    }
   ],
   "source": [
    "class Base1:\n",
    "    def __init__(self, value1):\n",
    "        self.value1 = value1\n",
    "    \n",
    "    def method1(self):\n",
    "        print(f\"Method 1 of Base1 with value1: {self.value1}\")\n",
    "\n",
    "class Base2:\n",
    "    def __init__(self, value2):\n",
    "        self.value2 = value2\n",
    "    \n",
    "    def method2(self):\n",
    "        print(f\"Method 2 of Base2 with value2: {self.value2}\")\n",
    "\n",
    "class Child(Base1, Base2):\n",
    "    def __init__(self, value1, value2):\n",
    "        Base1.__init__(self, value1)\n",
    "        Base2.__init__(self, value2)\n",
    "\n",
    "c = Child(10, 20)\n",
    "c.method1()\n",
    "c.method2()\n"
   ]
  },
  {
   "cell_type": "markdown",
   "id": "d7b64f9c-2bc3-4b25-a2b9-c24d58a424d3",
   "metadata": {},
   "source": [
    "Multilevel Inheritance: In multilevel inheritance, we have one parent class and child class that is derived or inherited from that parent class. We have a grand-child class that is derived from the child class."
   ]
  },
  {
   "cell_type": "code",
   "execution_count": 9,
   "id": "c5b11699-08ae-4b42-8a93-0a333fa43a49",
   "metadata": {},
   "outputs": [
    {
     "name": "stdout",
     "output_type": "stream",
     "text": [
      "Animal is speaking\n",
      "Barking...\n",
      "Playing fetch\n"
     ]
    }
   ],
   "source": [
    "class Animal:\n",
    "    def __init__(self, name):\n",
    "        self.name = name\n",
    "\n",
    "    def speak(self):\n",
    "        print(\"Animal is speaking\")\n",
    "\n",
    "class Dog(Animal):\n",
    "    def bark(self):\n",
    "        print(\"Barking...\")\n",
    "\n",
    "class GoldenRetriever(Dog):\n",
    "    def play(self):\n",
    "        print(\"Playing fetch\")\n",
    "\n",
    "gr = GoldenRetriever(\"Buddy\")\n",
    "gr.speak() # Output: Animal is speaking\n",
    "gr.bark() # Output: Barking...\n",
    "gr.play() # Output: Playing fetch\n"
   ]
  },
  {
   "cell_type": "markdown",
   "id": "39937b7d-1607-4c9c-b6f8-ec46e45de2f1",
   "metadata": {},
   "source": [
    "Hierarchical inheritance: When we derive or inherit more than one child class from one(same) parent class. Then this type of inheritance is called hierarchical inheritance."
   ]
  },
  {
   "cell_type": "code",
   "execution_count": 10,
   "id": "a793be73-6836-4f86-a8d7-8f22825ffdb6",
   "metadata": {},
   "outputs": [
    {
     "name": "stdout",
     "output_type": "stream",
     "text": [
      "Name: Rocky\n",
      "Species: Dog\n",
      "Breed: Labrador\n",
      "Name: Molly\n",
      "Species: Cat\n",
      "Breed: Siamese\n"
     ]
    }
   ],
   "source": [
    "# Hierarchical Inheritance Example\n",
    "\n",
    "# Parent class\n",
    "class Animal:\n",
    "  def __init__(self, name, species):\n",
    "    self.name = name\n",
    "    self.species = species\n",
    "\n",
    "  def show_animal_info(self):\n",
    "    print(f\"Name: {self.name}\")\n",
    "    print(f\"Species: {self.species}\")\n",
    "\n",
    "# Child class 1\n",
    "class Dog(Animal):\n",
    "  def __init__(self, name, breed):\n",
    "    Animal.__init__(self, name, species=\"Dog\")\n",
    "    self.breed = breed\n",
    "\n",
    "  def show_dog_info(self):\n",
    "    self.show_animal_info()\n",
    "    print(f\"Breed: {self.breed}\")\n",
    "\n",
    "# Child class 2\n",
    "class Cat(Animal):\n",
    "  def __init__(self, name, breed):\n",
    "    Animal.__init__(self, name, species=\"Cat\")\n",
    "    self.breed = breed\n",
    "\n",
    "  def show_cat_info(self):\n",
    "    self.show_animal_info()\n",
    "    print(f\"Breed: {self.breed}\")\n",
    "\n",
    "dog = Dog(\"Rocky\", \"Labrador\")\n",
    "dog.show_dog_info()\n",
    "\n",
    "cat = Cat(\"Molly\", \"Siamese\")\n",
    "cat.show_cat_info()\n"
   ]
  },
  {
   "cell_type": "markdown",
   "id": "eaf9837a-a59d-4a03-87f6-7d9f28efdd9a",
   "metadata": {},
   "source": [
    "Hybrid Inheritance: Hybrid inheritance satisfies more than one form of inheritance ie. It may be consists of all types of inheritance that we have done above. It is not wrong if we say Hybrid Inheritance is the combinations of simple, multiple, multilevel and hierarchical inheritance. This type of inheritance is very helpful if we want to use concepts of inheritance without any limitations according to our requirements.\n"
   ]
  },
  {
   "cell_type": "code",
   "execution_count": 11,
   "id": "7f16bd1f-b663-442f-8797-cc68e871544f",
   "metadata": {},
   "outputs": [
    {
     "name": "stdout",
     "output_type": "stream",
     "text": [
      "Feature 1 is available in Class A\n",
      "Feature 2 is available in Class B\n",
      "Feature 3 is available in Class C\n"
     ]
    }
   ],
   "source": [
    "class A:\n",
    "    def feature1(self):\n",
    "        print(\"Feature 1 is available in Class A\")\n",
    "\n",
    "class B:\n",
    "    def feature2(self):\n",
    "        print(\"Feature 2 is available in Class B\")\n",
    "\n",
    "class C(A, B):\n",
    "    def feature3(self):\n",
    "        print(\"Feature 3 is available in Class C\")\n",
    "\n",
    "c = C()\n",
    "c.feature1()\n",
    "c.feature2()\n",
    "c.feature3()\n"
   ]
  },
  {
   "cell_type": "code",
   "execution_count": null,
   "id": "8a1c8487-3b0d-4574-b141-f83eb90135bb",
   "metadata": {},
   "outputs": [],
   "source": []
  }
 ],
 "metadata": {
  "kernelspec": {
   "display_name": "Python 3 (ipykernel)",
   "language": "python",
   "name": "python3"
  },
  "language_info": {
   "codemirror_mode": {
    "name": "ipython",
    "version": 3
   },
   "file_extension": ".py",
   "mimetype": "text/x-python",
   "name": "python",
   "nbconvert_exporter": "python",
   "pygments_lexer": "ipython3",
   "version": "3.10.8"
  }
 },
 "nbformat": 4,
 "nbformat_minor": 5
}
